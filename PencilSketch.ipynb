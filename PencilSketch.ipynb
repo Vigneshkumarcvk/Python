{
  "nbformat": 4,
  "nbformat_minor": 0,
  "metadata": {
    "colab": {
      "provenance": [],
      "authorship_tag": "ABX9TyOEKl+b3i9XS/T9zK1MHmSG",
      "include_colab_link": true
    },
    "kernelspec": {
      "name": "python3",
      "display_name": "Python 3"
    },
    "language_info": {
      "name": "python"
    }
  },
  "cells": [
    {
      "cell_type": "markdown",
      "metadata": {
        "id": "view-in-github",
        "colab_type": "text"
      },
      "source": [
        "<a href=\"https://colab.research.google.com/github/Vigneshkumarcvk/Python/blob/main/PencilSketch.ipynb\" target=\"_parent\"><img src=\"https://colab.research.google.com/assets/colab-badge.svg\" alt=\"Open In Colab\"/></a>"
      ]
    },
    {
      "cell_type": "code",
      "execution_count": 2,
      "metadata": {
        "colab": {
          "base_uri": "https://localhost:8080/"
        },
        "id": "FGA4_z8wVKru",
        "outputId": "5a83ac05-4e7a-48ad-cbfa-1b51add8c918"
      },
      "outputs": [
        {
          "output_type": "execute_result",
          "data": {
            "text/plain": [
              "True"
            ]
          },
          "metadata": {},
          "execution_count": 2
        }
      ],
      "source": [
        "import cv2\n",
        "image = cv2.imread('Rock.jpg')  # loads an image from the specified file\n",
        "# convert an image from one color space to another\n",
        "grey_img = cv2.cvtColor(image, cv2.COLOR_BGR2GRAY)\n",
        "invert = cv2.bitwise_not(grey_img)  # helps in masking of the image\n",
        "# sharp edges in images are smoothed while minimizing too much blurring\n",
        "blur = cv2.GaussianBlur(invert, (21, 21), 0)\n",
        "invertedblur = cv2.bitwise_not(blur)\n",
        "sketch = cv2.divide(grey_img, invertedblur, scale=260.0)\n",
        "cv2.imwrite(\"Rock1.png\", sketch)  # converted image is saved as mentioned name"
      ]
    },
    {
      "cell_type": "code",
      "source": [
        "import numpy as np\n",
        "import imageio\n",
        "import cv2\n",
        "import scipy.ndimage\n",
        "img = \"Rock.jpg\"\n",
        "def draw(rgb):\n",
        "    return np.dot(rgb[...,:3], [0.2989, 0.5870, .1140])\n",
        "def dodge(front,back):\n",
        "    res = front*255/(255-back)\n",
        "    res[res>255]=255\n",
        "    res[back == 255]=255\n",
        "    return res.astype('uint8')\n",
        "\n",
        "S = imageio.imread(img)\n",
        "d = draw(S)\n",
        "i = 255-d\n",
        "b = scipy.ndimage.filters.gaussian_filter(i, sigma=13)\n",
        "r = dodge(b,d)\n",
        "cv2.imwrite('Rock.png', r)"
      ],
      "metadata": {
        "colab": {
          "base_uri": "https://localhost:8080/"
        },
        "id": "DzEr0TJTViUQ",
        "outputId": "07bb79e1-230c-4241-98de-942e61a85302"
      },
      "execution_count": 1,
      "outputs": [
        {
          "output_type": "execute_result",
          "data": {
            "text/plain": [
              "True"
            ]
          },
          "metadata": {},
          "execution_count": 1
        }
      ]
    }
  ]
}